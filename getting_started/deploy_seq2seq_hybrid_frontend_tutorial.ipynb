{
 "cells": [
  {
   "cell_type": "markdown",
   "metadata": {},
   "source": [
    "# [DEPLOYING A SEQ2SEQ MODEL WITH THE HYBRID FRONTEND](https://pytorch.org/tutorials/beginner/deploy_seq2seq_hybrid_frontend_tutorial.html)"
   ]
  },
  {
   "cell_type": "markdown",
   "metadata": {},
   "source": [
    "## 混合型前端（Hybrid Frontend）"
   ]
  },
  {
   "cell_type": "markdown",
   "metadata": {},
   "source": [
    "torch.jit模块：将eager模式PyTorch程序转换成Torch脚本（Torch Script），有两种模式\n",
    "\n",
    "（1）跟踪（tracing）：torch.jit.trace\n",
    "\n",
    "输入：模块（函数）、数据集\n",
    "\n",
    "作用：跟踪计算步骤，输出执行跟踪操作的图函数（a graph-based function）\n",
    "\n",
    "跟踪适用于与依赖数据控制流（data-dependent control flow）无关的模块（函数）；当跟踪包含依赖数据的if、循环语句的函数时，跟踪仅记录样本在执行路径上调用的操作，即控制流本身没有被捕获。\n",
    "\n",
    "（2）脚本（scripting）：torch.jit.ScriptModule，torch.jit.script，torch.jit.script_method\n",
    "\n",
    "作用：将模块（函数）代码（包括所有可能控制流路径，all possible control flow routes）显式转换为Torch脚本。\n",
    "\n",
    "继承基础类：torch.jit.ScriptModule\n",
    "\n",
    "修饰器（decorator）：torch.jit.script（函数）、torch.jit.script_method（模块）\n",
    "\n",
    "有关所支持特性的所有详细信息，请参阅Torch脚本语言参考资料。为了提供最大的灵活性，可以组合Torch脚本的模式来表示整个程序，并且可以增量地应用这些技术。"
   ]
  },
  {
   "cell_type": "markdown",
   "metadata": {},
   "source": [
    "![](https://pytorch.org/tutorials/_images/pytorch_workflow.png)"
   ]
  },
  {
   "cell_type": "markdown",
   "metadata": {},
   "source": [
    "## 环境"
   ]
  },
  {
   "cell_type": "code",
   "execution_count": null,
   "metadata": {},
   "outputs": [],
   "source": [
    "import torch\n",
    "import torch.nn as nn\n",
    "import torch.nn.functional as F\n",
    "import re\n",
    "import os\n",
    "import unicodedata\n",
    "import numpy as np\n",
    "\n",
    "device = torch.device(\"cpu\")\n",
    "\n",
    "MAX_LENGTH = 10  # Maximum sentence length\n",
    "\n",
    "# Default word tokens\n",
    "PAD_token = 0  # Used for padding short sentences\n",
    "SOS_token = 1  # Start-of-sentence token\n",
    "EOS_token = 2  # End-of-sentence token\n"
   ]
  },
  {
   "cell_type": "markdown",
   "metadata": {},
   "source": [
    "## 模型"
   ]
  },
  {
   "cell_type": "markdown",
   "metadata": {},
   "source": [
    "![](https://pytorch.org/tutorials/_images/seq2seq_ts.png)"
   ]
  },
  {
   "cell_type": "markdown",
   "metadata": {},
   "source": [
    "### 编码器（encoder）"
   ]
  },
  {
   "cell_type": "markdown",
   "metadata": {},
   "source": [
    "### 解码器（decoder）"
   ]
  }
 ],
 "metadata": {
  "kernelspec": {
   "display_name": "Python 3",
   "language": "python",
   "name": "python3"
  },
  "language_info": {
   "codemirror_mode": {
    "name": "ipython",
    "version": 3
   },
   "file_extension": ".py",
   "mimetype": "text/x-python",
   "name": "python",
   "nbconvert_exporter": "python",
   "pygments_lexer": "ipython3",
   "version": "3.7.3"
  }
 },
 "nbformat": 4,
 "nbformat_minor": 2
}
